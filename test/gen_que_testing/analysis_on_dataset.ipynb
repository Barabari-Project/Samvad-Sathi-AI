{
 "cells": [
  {
   "cell_type": "code",
   "execution_count": 38,
   "id": "54c67eac",
   "metadata": {},
   "outputs": [],
   "source": [
    "import pandas as pd"
   ]
  },
  {
   "cell_type": "code",
   "execution_count": 39,
   "id": "1d9cc9d3",
   "metadata": {},
   "outputs": [
    {
     "data": {
      "text/plain": [
       "(70, 15)"
      ]
     },
     "execution_count": 39,
     "metadata": {},
     "output_type": "execute_result"
    }
   ],
   "source": [
    "df = pd.read_csv(\"dataset_frontend.csv\") # \"dataset_fronted.csv\" \"dataset_DS.csv\"\n",
    "df.shape"
   ]
  },
  {
   "cell_type": "code",
   "execution_count": 17,
   "id": "6c44f162",
   "metadata": {},
   "outputs": [
    {
     "name": "stdout",
     "output_type": "stream",
     "text": [
      "Number of empty cells: 20\n"
     ]
    }
   ],
   "source": [
    "empty_cells_count = df.isnull().sum().sum()\n",
    "print(f\"Number of empty cells: {empty_cells_count}\")"
   ]
  },
  {
   "cell_type": "code",
   "execution_count": 18,
   "id": "ddc7b567",
   "metadata": {},
   "outputs": [
    {
     "data": {
      "text/plain": [
       "(85, 15)"
      ]
     },
     "execution_count": 18,
     "metadata": {},
     "output_type": "execute_result"
    }
   ],
   "source": [
    "df.shape"
   ]
  },
  {
   "cell_type": "code",
   "execution_count": 19,
   "id": "a4103bd0",
   "metadata": {},
   "outputs": [
    {
     "data": {
      "text/plain": [
       "Index(['Unnamed: 0', 'Question', 'varient', 'answer', 'accuracy', 'depth',\n",
       "       'relevance', 'hint', 'accuracy_reason', 'relevance_reason',\n",
       "       'depth_reason', 'terminology', 'terminology_reason',\n",
       "       'Examples/Evidence', 'Examples/Evidence_reason'],\n",
       "      dtype='object')"
      ]
     },
     "execution_count": 19,
     "metadata": {},
     "output_type": "execute_result"
    }
   ],
   "source": [
    "df.columns"
   ]
  },
  {
   "cell_type": "code",
   "execution_count": 25,
   "id": "87cb98c0",
   "metadata": {},
   "outputs": [],
   "source": [
    "sums = {'accuracy':0,'depth':0,'relevance':0,'hint':0}\n",
    "for ix in range(df.shape[0]):\n",
    "    for matric in sums.keys():\n",
    "        actual,exp = df[matric][ix].split('/')\n",
    "        try:\n",
    "            actual,exp = int(actual),float(exp)\n",
    "        except:\n",
    "            actual,exp = int(bool(actual)),float(exp)\n",
    "        sums[matric] += abs(actual-exp)"
   ]
  },
  {
   "cell_type": "code",
   "execution_count": 34,
   "id": "bdfd3475",
   "metadata": {},
   "outputs": [
    {
     "name": "stdout",
     "output_type": "stream",
     "text": [
      "Average diffrence between expected score and actual score on the below domain base analysis matrics\n",
      "dict_keys(['accuracy', 'depth', 'relevance', 'hint'])\n"
     ]
    },
    {
     "data": {
      "text/plain": [
       "[1.0058823529411764, 0.6058823529411764, 0.4117647058823529, 0.3]"
      ]
     },
     "execution_count": 34,
     "metadata": {},
     "output_type": "execute_result"
    }
   ],
   "source": [
    "print(\"Average diffrence between expected score and actual score on the below domain base analysis matrics\")\n",
    "print(sums.keys())\n",
    "[i/df.shape[0] for i in list(sums.values())]"
   ]
  },
  {
   "cell_type": "code",
   "execution_count": null,
   "id": "c537fa01",
   "metadata": {},
   "outputs": [],
   "source": []
  }
 ],
 "metadata": {
  "kernelspec": {
   "display_name": "samvadSathiAI",
   "language": "python",
   "name": "python3"
  },
  "language_info": {
   "codemirror_mode": {
    "name": "ipython",
    "version": 3
   },
   "file_extension": ".py",
   "mimetype": "text/x-python",
   "name": "python",
   "nbconvert_exporter": "python",
   "pygments_lexer": "ipython3",
   "version": "3.10.13"
  }
 },
 "nbformat": 4,
 "nbformat_minor": 5
}
