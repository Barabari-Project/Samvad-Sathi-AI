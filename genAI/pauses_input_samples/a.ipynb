{
 "cells": [
  {
   "cell_type": "code",
   "execution_count": 18,
   "id": "a3d2094d",
   "metadata": {},
   "outputs": [],
   "source": [
    "with open('pause_2_x.json') as f:\n",
    "    data = f.read()"
   ]
  },
  {
   "cell_type": "code",
   "execution_count": 19,
   "id": "41b3b823",
   "metadata": {},
   "outputs": [],
   "source": [
    "import json\n",
    "data = json.loads(data)"
   ]
  },
  {
   "cell_type": "code",
   "execution_count": 20,
   "id": "f994edf5",
   "metadata": {},
   "outputs": [
    {
     "data": {
      "text/plain": [
       "\"You know, sometimes it's not what we say, but how we say it. A well-paced pause can make the listener lean in and truly listen. So next time you speak, try this. Say less, but say it well.\""
      ]
     },
     "execution_count": 20,
     "metadata": {},
     "output_type": "execute_result"
    }
   ],
   "source": [
    "\" \".join([i['word'] for i in data['words']]).strip('\"')"
   ]
  },
  {
   "cell_type": "code",
   "execution_count": null,
   "id": "e4f70a5a",
   "metadata": {},
   "outputs": [],
   "source": []
  }
 ],
 "metadata": {
  "kernelspec": {
   "display_name": "samvadSathiAI",
   "language": "python",
   "name": "python3"
  },
  "language_info": {
   "codemirror_mode": {
    "name": "ipython",
    "version": 3
   },
   "file_extension": ".py",
   "mimetype": "text/x-python",
   "name": "python",
   "nbconvert_exporter": "python",
   "pygments_lexer": "ipython3",
   "version": "3.10.13"
  }
 },
 "nbformat": 4,
 "nbformat_minor": 5
}
